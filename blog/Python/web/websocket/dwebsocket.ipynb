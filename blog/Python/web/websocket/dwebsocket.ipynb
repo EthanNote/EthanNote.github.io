{
 "cells": [
  {
   "cell_type": "markdown",
   "metadata": {},
   "source": [
    "# Dwebsocket\n",
    "https://github.com/duanhongyi/dwebsocket"
   ]
  },
  {
   "cell_type": "markdown",
   "metadata": {},
   "source": [
    "## Django web server\n",
    "urls.py"
   ]
  },
  {
   "cell_type": "code",
   "execution_count": null,
   "metadata": {},
   "outputs": [],
   "source": [
    "import threading\n",
    "from django.conf.urls import *\n",
    "from django.shortcuts import render_to_response\n",
    "from django.template import RequestContext\n",
    "from dwebsocket.decorators import accept_websocket\n",
    "\n",
    "# Uncomment the next two lines to enable the admin:\n",
    "# from django.contrib import admin\n",
    "# admin.autodiscover()\n",
    "\n",
    "def base_view(request):\n",
    "    return render_to_response('index.html', {\n",
    "\n",
    "    }, context_instance=RequestContext(request))\n",
    "\n",
    "\n",
    "clients = []\n",
    "\n",
    "@accept_websocket\n",
    "def echo(request):\n",
    "    if request.is_websocket:\n",
    "        lock = threading.RLock()\n",
    "        try:\n",
    "            lock.acquire()\n",
    "            clients.append(request.websocket)\n",
    "            for message in request.websocket:\n",
    "                if not message:\n",
    "                    break\n",
    "                for client in clients:\n",
    "                    client.send(message)\n",
    "        finally:\n",
    "            clients.remove(request.websocket)\n",
    "            lock.release()\n",
    "\n",
    "\n",
    "urlpatterns = patterns('',\n",
    "    # Example:\n",
    "    url(r'^$', base_view),\n",
    "    url(r'^echo$', echo),\n",
    "\n",
    "    # Uncomment the admin/doc line below and add 'django.contrib.admindocs' \n",
    "    # to INSTALLED_APPS to enable admin documentation:\n",
    "    # (r'^admin/doc/', include('django.contrib.admindocs.urls')),\n",
    "\n",
    "    # Uncomment the next line to enable the admin:\n",
    "    # (r'^admin/', include(admin.site.urls)),\n",
    ")"
   ]
  },
  {
   "cell_type": "markdown",
   "metadata": {},
   "source": [
    "## Client\n",
    "```javascript\n",
    "$(function () {\n",
    "        $('#connect_websocket').click(function () {\n",
    "            if(window.s){\n",
    "                window.s.close()\n",
    "            }\n",
    "            var s = new WebSocket(\"ws://\" + window.location.host + \"/echo\");\n",
    "            s.onopen = function () {\n",
    "                console.log('WebSocket open');\n",
    "            };\n",
    "            s.onmessage = function (e) {\n",
    "                console.log('message: ' + e.data);\n",
    "                $('#messagecontainer').prepend('<p>' + e.data + '</p>');\n",
    "            };\n",
    "            window.s = s;\n",
    "        });\n",
    "        $('#send_message').click(function () {\n",
    "            if(!window.s){\n",
    "                alert(\"Please connect server.\");\n",
    "            }else{\n",
    "                window.s.send($('#message').val());\n",
    "            }\n",
    "        });\n",
    "        $('#close_websocket').click(function () {\n",
    "            if(window.s){\n",
    "                window.s.close();\n",
    "            }\n",
    "        });\n",
    "    });\n",
    "```"
   ]
  },
  {
   "cell_type": "code",
   "execution_count": null,
   "metadata": {},
   "outputs": [],
   "source": []
  }
 ],
 "metadata": {
  "kernelspec": {
   "display_name": "Python 3",
   "language": "python",
   "name": "python3"
  },
  "language_info": {
   "codemirror_mode": {
    "name": "ipython",
    "version": 3
   },
   "file_extension": ".py",
   "mimetype": "text/x-python",
   "name": "python",
   "nbconvert_exporter": "python",
   "pygments_lexer": "ipython3",
   "version": "3.5.3"
  }
 },
 "nbformat": 4,
 "nbformat_minor": 2
}
