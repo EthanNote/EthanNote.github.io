{
 "cells": [
  {
   "cell_type": "markdown",
   "metadata": {},
   "source": [
    "# Flask SocketIO\n",
    "\n",
    "https://blog.miguelgrinberg.com/post/easy-websockets-with-flask-and-gevent"
   ]
  },
  {
   "cell_type": "markdown",
   "metadata": {},
   "source": [
    "## Flask web server"
   ]
  },
  {
   "cell_type": "code",
   "execution_count": null,
   "metadata": {},
   "outputs": [],
   "source": [
    "from flask import Flask, render_template\n",
    "from flask_socketio import SocketIO, emit\n",
    "\n",
    "app = Flask(__name__)\n",
    "app.config['SECRET_KEY'] = 'secret!'\n",
    "socketio = SocketIO(app)\n",
    "\n",
    "@app.route('/')\n",
    "def index():\n",
    "    return render_template('index.html')\n",
    "\n",
    "@socketio.on('my event', namespace='/test')\n",
    "def test_message(message):\n",
    "    emit('my response', {'data': message['data']})\n",
    "\n",
    "@socketio.on('my broadcast event', namespace='/test')\n",
    "def test_message(message):\n",
    "    emit('my response', {'data': message['data']}, broadcast=True)\n",
    "\n",
    "@socketio.on('connect', namespace='/test')\n",
    "def test_connect():\n",
    "    emit('my response', {'data': 'Connected'})\n",
    "\n",
    "@socketio.on('disconnect', namespace='/test')\n",
    "def test_disconnect():\n",
    "    print('Client disconnected')\n",
    "\n",
    "if __name__ == '__main__':\n",
    "    socketio.run(app)"
   ]
  },
  {
   "cell_type": "markdown",
   "metadata": {},
   "source": [
    "# Client\n",
    "\n",
    "```javascript\n",
    "$(document).ready(function(){\n",
    "    var socket = io.connect('http://' + document.domain + ':' + location.port + '/test');\n",
    "    socket.on('my response', function(msg) {\n",
    "        $('#log').append('<p>Received: ' + msg.data + '</p>');\n",
    "    });\n",
    "    $('form#emit').submit(function(event) {\n",
    "        socket.emit('my event', {data: $('#emit_data').val()});\n",
    "        return false;\n",
    "    });\n",
    "    $('form#broadcast').submit(function(event) {\n",
    "        socket.emit('my broadcast event', {data: $('#broadcast_data').val()});\n",
    "        return false;\n",
    "    });\n",
    "});\n",
    "```"
   ]
  },
  {
   "cell_type": "code",
   "execution_count": null,
   "metadata": {},
   "outputs": [],
   "source": []
  }
 ],
 "metadata": {
  "kernelspec": {
   "display_name": "Python 3",
   "language": "python",
   "name": "python3"
  },
  "language_info": {
   "codemirror_mode": {
    "name": "ipython",
    "version": 3
   },
   "file_extension": ".py",
   "mimetype": "text/x-python",
   "name": "python",
   "nbconvert_exporter": "python",
   "pygments_lexer": "ipython3",
   "version": "3.5.3"
  }
 },
 "nbformat": 4,
 "nbformat_minor": 2
}
